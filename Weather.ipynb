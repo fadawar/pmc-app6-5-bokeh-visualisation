{
 "cells": [
  {
   "cell_type": "code",
   "execution_count": 20,
   "metadata": {
    "collapsed": false,
    "deletable": true,
    "editable": true
   },
   "outputs": [],
   "source": [
    "from bokeh.charts import Scatter, show, output_file\n",
    "import pandas\n",
    "\n",
    "df = pandas.read_excel('verlegenhuken.xlsx')\n",
    "df[\"Temperature\"]=df[\"Temperature\"]/10\n",
    "df[\"Pressure\"]=df[\"Pressure\"]/10"
   ]
  },
  {
   "cell_type": "code",
   "execution_count": 23,
   "metadata": {
    "collapsed": false
   },
   "outputs": [
    {
     "name": "stderr",
     "output_type": "stream",
     "text": [
      "INFO:bokeh.core.state:Session output file 'scatter_chart.html' already exists, will be overwritten.\n"
     ]
    }
   ],
   "source": [
    "p = Scatter(df, x='Temperature', y='Pressure', title='Temperatures')\n",
    "\n",
    "output_file('scatter_chart.html')\n",
    "show(p)"
   ]
  },
  {
   "cell_type": "code",
   "execution_count": 22,
   "metadata": {
    "collapsed": false
   },
   "outputs": [
    {
     "name": "stderr",
     "output_type": "stream",
     "text": [
      "INFO:bokeh.core.state:Session output file 'scatter_plotting.html' already exists, will be overwritten.\n"
     ]
    }
   ],
   "source": [
    "from bokeh.plotting import figure, show, output_file\n",
    "\n",
    "p = figure(plot_width=500, plot_height=500)\n",
    "\n",
    "p.title.text = 'Temperature and Air Pressure'\n",
    "p.title.text_color = 'gray'\n",
    "p.title.text_font = 'Arial'\n",
    "#p.title.text_font_size = '15'\n",
    "\n",
    "p.xaxis.axis_label = 'Temperature (°C)'\n",
    "p.yaxis.axis_label = 'Pressure (hPa)'\n",
    "\n",
    "p.circle(df['Temperature'], df['Pressure'], size=1, color='blue')\n",
    "\n",
    "output_file('scatter_plotting.html')\n",
    "show(p)"
   ]
  }
 ],
 "metadata": {
  "kernelspec": {
   "display_name": "Python 3",
   "language": "python",
   "name": "python3"
  },
  "language_info": {
   "codemirror_mode": {
    "name": "ipython",
    "version": 3
   },
   "file_extension": ".py",
   "mimetype": "text/x-python",
   "name": "python",
   "nbconvert_exporter": "python",
   "pygments_lexer": "ipython3",
   "version": "3.5.2+"
  }
 },
 "nbformat": 4,
 "nbformat_minor": 2
}
